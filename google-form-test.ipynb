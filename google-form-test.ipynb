{
 "cells": [
  {
   "metadata": {
    "collapsed": true,
    "ExecuteTime": {
     "end_time": "2024-11-10T08:58:36.458363Z",
     "start_time": "2024-11-10T08:58:36.181551Z"
    }
   },
   "cell_type": "code",
   "source": [
    "import time, configparser\n",
    "\n",
    "from jupyterlab_server.config import load_config\n",
    "from selenium import webdriver\n",
    "from selenium.webdriver.common.by import By\n",
    "from selenium.webdriver.support.ui import WebDriverWait\n",
    "from selenium.webdriver.support import expected_conditions as EC\n",
    "\n",
    "\n",
    "# %lsmagic =>列出所有jupyter notebook magic commands"
   ],
   "id": "initial_id",
   "outputs": [],
   "execution_count": 1
  },
  {
   "metadata": {
    "ExecuteTime": {
     "end_time": "2024-11-10T08:58:40.471469Z",
     "start_time": "2024-11-10T08:58:40.468762Z"
    }
   },
   "cell_type": "code",
   "source": [
    "import logging\n",
    "def init_log():\n",
    "    import logging\n",
    "\n",
    "    # 設定日誌格式\n",
    "    formatter = logging.Formatter('%(asctime)s - %(name)s - %(levelname)s - %(message)s')\n",
    "    \n",
    "    # 建立日誌記錄器\n",
    "    logger = logging.getLogger(__name__)\n",
    "    logger.setLevel(logging.INFO)\n",
    "    \n",
    "    # 建立文件處理器\n",
    "    file_handler = logging.FileHandler('example.log')\n",
    "    file_handler.setLevel(logging.INFO)\n",
    "    file_handler.setFormatter(formatter)\n",
    "    \n",
    "    # 建立控制台處理器\n",
    "    console_handler = logging.StreamHandler()\n",
    "    console_handler.setLevel(logging.INFO)\n",
    "    console_handler.setFormatter(formatter)\n",
    "    \n",
    "    # 將處理器添加到日誌記錄器\n",
    "    logger.addHandler(file_handler)\n",
    "    logger.addHandler(console_handler)\n",
    "    return logger"
   ],
   "id": "f26169e7a72c8e8d",
   "outputs": [],
   "execution_count": 2
  },
  {
   "metadata": {
    "ExecuteTime": {
     "end_time": "2024-11-10T08:58:43.884592Z",
     "start_time": "2024-11-10T08:58:43.882403Z"
    }
   },
   "cell_type": "code",
   "source": [
    "\n",
    "def load_config(config_file):\n",
    "    config = configparser.ConfigParser()\n",
    "    # config_path = %pwd\n",
    "    config.read(config_file)\n",
    "    # load leave application data\n",
    "    default_config = {key: config.get(\"default\", key) for key in config.options(\"default\")}\n",
    "    apply_data = {key: config.get(\"apply_data\", key) for key in config.options(\"apply_data\")}\n",
    "    return default_config, apply_data\n",
    "\n"
   ],
   "id": "844160cd98bda9de",
   "outputs": [],
   "execution_count": 3
  },
  {
   "metadata": {
    "ExecuteTime": {
     "end_time": "2024-11-10T09:20:08.508071Z",
     "start_time": "2024-11-10T09:20:01.290221Z"
    }
   },
   "cell_type": "code",
   "source": [
    "config_path = %pwd\n",
    "config_path += \"/src/config.ini\"\n",
    "logger = init_log()\n",
    "\n",
    "default_config, apply_data = load_config(config_path)\n",
    "\n",
    "submit_form_id = default_config[\"submit_form_id\"]\n",
    "submit_button_id = default_config[\"submit_button_id\"]\n",
    "base_url = default_config[\"base_url\"]\n",
    "payload = apply_data\n",
    "\n",
    "url = base_url + \"/viewform\" + \"?\" + \"&\".join([f\"{key}={value}\" for key, value in payload.items()])\n",
    "\n",
    "options = webdriver.ChromeOptions()\n",
    "for option in default_config[\"browser_options\"].split(\",\"):\n",
    "    options.add_argument(option)\n",
    "\n",
    "with webdriver.Chrome(options) as driver:\n",
    "    driver.get(url)\n",
    "    form = WebDriverWait(driver, 10).until(\n",
    "        EC.presence_of_element_located((By.ID, submit_form_id))\n",
    "    )\n",
    "    button = WebDriverWait(driver, 10).until(\n",
    "        EC.element_to_be_clickable((By.CSS_SELECTOR, submit_button_id))\n",
    "    )\n",
    "\n",
    "    # button.click()\n",
    "\n",
    "    # if EC.url_matches(url + \"/formResponse\"):\n",
    "    #     params = \"\\n\".join([f\"{key}={value}\" for key, value in payload.items()])\n",
    "    #     logger.info(f\"Send request successfully with params: \\n {params}\" )\n",
    "\n",
    "    time.sleep(5)"
   ],
   "id": "731ad4115425f004",
   "outputs": [],
   "execution_count": 5
  }
 ],
 "metadata": {
  "kernelspec": {
   "display_name": "Python 3",
   "language": "python",
   "name": "python3"
  },
  "language_info": {
   "codemirror_mode": {
    "name": "ipython",
    "version": 2
   },
   "file_extension": ".py",
   "mimetype": "text/x-python",
   "name": "python",
   "nbconvert_exporter": "python",
   "pygments_lexer": "ipython2",
   "version": "2.7.6"
  }
 },
 "nbformat": 4,
 "nbformat_minor": 5
}
