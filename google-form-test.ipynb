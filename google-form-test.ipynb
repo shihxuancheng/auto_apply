{
 "cells": [
  {
   "metadata": {},
   "cell_type": "markdown",
   "source": "### Progress-1",
   "id": "da8c3287fa814a82"
  },
  {
   "metadata": {
    "ExecuteTime": {
     "end_time": "2025-09-04T16:02:37.779138Z",
     "start_time": "2025-09-04T16:02:27.260383Z"
    }
   },
   "cell_type": "code",
   "source": [
    "import time\n",
    "\n",
    "from selenium.webdriver.ie.webdriver import WebDriver\n",
    "from tqdm import tqdm\n",
    "\n",
    "# 模擬一個長時間運行的任務\n",
    "for i in tqdm(range(100), desc=\"Loading...\"):\n",
    "    time.sleep(0.1)  # 模擬任務"
   ],
   "id": "26e1bf488fa22198",
   "outputs": [
    {
     "name": "stderr",
     "output_type": "stream",
     "text": [
      "Loading...: 100%|██████████| 100/100 [00:10<00:00,  9.54it/s]\n"
     ]
    }
   ],
   "execution_count": 3
  },
  {
   "metadata": {},
   "cell_type": "markdown",
   "source": "### Progress-2 (infiniti loading)",
   "id": "29e5206d8d2c6517"
  },
  {
   "metadata": {
    "ExecuteTime": {
     "end_time": "2025-09-04T16:02:55.391498Z",
     "start_time": "2025-09-04T16:02:52.548881Z"
    }
   },
   "cell_type": "code",
   "source": [
    "import itertools\n",
    "import sys\n",
    "import time\n",
    "\n",
    "def always_loading(desc=\"Loading...\", delay=0.1):\n",
    "    spinner = itertools.cycle(['-', '\\\\', '|', '/'])\n",
    "    while True:\n",
    "        sys.stdout.write(f'\\r{desc} {next(spinner)}')\n",
    "        sys.stdout.flush()\n",
    "        time.sleep(delay)\n",
    "\n",
    "try:\n",
    "    always_loading()\n",
    "except KeyboardInterrupt:\n",
    "    sys.stdout.write('\\rDone!     \\n')\n",
    "    sys.stdout.flush()"
   ],
   "id": "4e7b2eebee825600",
   "outputs": [
    {
     "name": "stdout",
     "output_type": "stream",
     "text": [
      "Done!      /\n"
     ]
    }
   ],
   "execution_count": 5
  },
  {
   "metadata": {},
   "cell_type": "markdown",
   "source": "### Progress-3 (countdown)",
   "id": "3ee1523dbad1ee16"
  },
  {
   "metadata": {
    "ExecuteTime": {
     "end_time": "2025-09-04T16:04:02.967190Z",
     "start_time": "2025-09-04T16:03:35.466640Z"
    }
   },
   "cell_type": "code",
   "source": [
    "import time\n",
    "from tqdm import tqdm\n",
    "from datetime import datetime, timedelta\n",
    "\n",
    "def countdown_to(target_time):\n",
    "    now = datetime.now()\n",
    "    target = datetime.strptime(target_time, \"%Y-%m-%d %H:%M:%S\")\n",
    "    delta = (target - now).total_seconds()\n",
    "\n",
    "    if delta <= 0:\n",
    "        print(f\"Target date is expired => {target_time}\")\n",
    "        return\n",
    "\n",
    "    for i in tqdm(range(int(delta)), desc=\"AWaiting time for auto-apply execution\", unit=\"s\", bar_format=\"{desc}: {remaining}\"):\n",
    "        time.sleep(1)\n",
    "\n",
    "# 設定目標時間\n",
    "target_time = \"2025-09-05 00:05:00\"\n",
    "countdown_to(target_time)"
   ],
   "id": "6c58636ed1cd5756",
   "outputs": [
    {
     "name": "stderr",
     "output_type": "stream",
     "text": [
      "AWaiting time for auto-apply execution: 00:57\n"
     ]
    },
    {
     "ename": "KeyboardInterrupt",
     "evalue": "",
     "output_type": "error",
     "traceback": [
      "\u001B[0;31m---------------------------------------------------------------------------\u001B[0m",
      "\u001B[0;31mKeyboardInterrupt\u001B[0m                         Traceback (most recent call last)",
      "Cell \u001B[0;32mIn[7], line 19\u001B[0m\n\u001B[1;32m     17\u001B[0m \u001B[38;5;66;03m# 設定目標時間\u001B[39;00m\n\u001B[1;32m     18\u001B[0m target_time \u001B[38;5;241m=\u001B[39m \u001B[38;5;124m\"\u001B[39m\u001B[38;5;124m2025-09-05 00:05:00\u001B[39m\u001B[38;5;124m\"\u001B[39m\n\u001B[0;32m---> 19\u001B[0m \u001B[43mcountdown_to\u001B[49m\u001B[43m(\u001B[49m\u001B[43mtarget_time\u001B[49m\u001B[43m)\u001B[49m\n",
      "Cell \u001B[0;32mIn[7], line 15\u001B[0m, in \u001B[0;36mcountdown_to\u001B[0;34m(target_time)\u001B[0m\n\u001B[1;32m     12\u001B[0m     \u001B[38;5;28;01mreturn\u001B[39;00m\n\u001B[1;32m     14\u001B[0m \u001B[38;5;28;01mfor\u001B[39;00m i \u001B[38;5;129;01min\u001B[39;00m tqdm(\u001B[38;5;28mrange\u001B[39m(\u001B[38;5;28mint\u001B[39m(delta)), desc\u001B[38;5;241m=\u001B[39m\u001B[38;5;124m\"\u001B[39m\u001B[38;5;124mAWaiting time for auto-apply execution\u001B[39m\u001B[38;5;124m\"\u001B[39m, unit\u001B[38;5;241m=\u001B[39m\u001B[38;5;124m\"\u001B[39m\u001B[38;5;124ms\u001B[39m\u001B[38;5;124m\"\u001B[39m, bar_format\u001B[38;5;241m=\u001B[39m\u001B[38;5;124m\"\u001B[39m\u001B[38;5;132;01m{desc}\u001B[39;00m\u001B[38;5;124m: \u001B[39m\u001B[38;5;132;01m{remaining}\u001B[39;00m\u001B[38;5;124m\"\u001B[39m):\n\u001B[0;32m---> 15\u001B[0m     time\u001B[38;5;241m.\u001B[39msleep(\u001B[38;5;241m1\u001B[39m)\n",
      "\u001B[0;31mKeyboardInterrupt\u001B[0m: "
     ]
    }
   ],
   "execution_count": 7
  },
  {
   "metadata": {},
   "cell_type": "code",
   "source": [
    "import logging\n",
    "def init_log():\n",
    "    import logging\n",
    "\n",
    "    # 設定日誌格式\n",
    "    formatter = logging.Formatter('%(asctime)s - %(name)s - %(levelname)s - %(message)s')\n",
    "    \n",
    "    # 建立日誌記錄器\n",
    "    logger = logging.getLogger(__name__)\n",
    "    logger.setLevel(logging.INFO)\n",
    "    \n",
    "    # 建立文件處理器\n",
    "    file_handler = logging.FileHandler('example.log')\n",
    "    file_handler.setLevel(logging.INFO)\n",
    "    file_handler.setFormatter(formatter)\n",
    "    \n",
    "    # 建立控制台處理器\n",
    "    console_handler = logging.StreamHandler()\n",
    "    console_handler.setLevel(logging.INFO)\n",
    "    console_handler.setFormatter(formatter)\n",
    "    \n",
    "    # 將處理器添加到日誌記錄器\n",
    "    logger.addHandler(file_handler)\n",
    "    logger.addHandler(console_handler)\n",
    "    return logger"
   ],
   "id": "f26169e7a72c8e8d",
   "outputs": [],
   "execution_count": null
  },
  {
   "metadata": {},
   "cell_type": "code",
   "source": [
    "import os\n",
    "import shutil\n",
    "from selenium import webdriver\n",
    "from selenium.webdriver.chrome.service import Service\n",
    "\n",
    "def find_chromedriver():\n",
    "    # 方法1：使用 shutil.which()\n",
    "    path = shutil.which('chromedriver')\n",
    "    if path:\n",
    "        return path\n",
    "\n",
    "    # 方法2：檢查常見路徑\n",
    "    common_paths = [\n",
    "        '/usr/bin/chromedriver',\n",
    "        '/usr/local/bin/chromedriver',\n",
    "        os.path.expanduser('~/chromedriver')\n",
    "    ]\n",
    "\n",
    "    for common_path in common_paths:\n",
    "        if os.path.exists(common_path):\n",
    "            return common_path\n",
    "\n",
    "    # 方法3：遍歷 PATH\n",
    "    for path in os.environ.get('PATH', '').split(os.pathsep):\n",
    "        potential_path = os.path.join(path, 'chromedriver')\n",
    "        if os.path.exists(potential_path):\n",
    "            return potential_path\n",
    "\n",
    "    return None\n",
    "\n",
    "# 使用找到的 ChromeDriver 路徑\n",
    "chromedriver_path = find_chromedriver()\n",
    "if chromedriver_path:\n",
    "    service = Service(chromedriver_path)\n",
    "    driver = webdriver.Chrome(service=service)\n",
    "else:\n",
    "    print(\"ChromeDriver not found\")"
   ],
   "id": "b01f1ecbca3929a8",
   "outputs": [],
   "execution_count": null
  },
  {
   "metadata": {},
   "cell_type": "markdown",
   "source": "### Get Chromedriver install path",
   "id": "36e61179aa21fcf6"
  },
  {
   "metadata": {},
   "cell_type": "code",
   "source": [
    "from selenium import webdriver\n",
    "from selenium.webdriver.chrome.service import Service\n",
    "\n",
    "def get_chromedriver_path():\n",
    "    try:\n",
    "        # 初始化 Chrome WebDriver\n",
    "        service = Service()\n",
    "        driver = webdriver.Chrome(service=service)\n",
    "        # 取得 ChromeDriver 的執行檔路徑\n",
    "        chromedriver_path = service.path\n",
    "        driver.quit()\n",
    "        return chromedriver_path\n",
    "    except Exception as e:\n",
    "        print(f\"Error occurred: {e}\")\n",
    "        return None\n",
    "\n",
    "chromedriver_path = get_chromedriver_path()\n",
    "if chromedriver_path:\n",
    "    print(f\"ChromeDriver path: {chromedriver_path}\")\n",
    "else:\n",
    "    print(\"Failed to get ChromeDriver path.\")"
   ],
   "id": "1b3f0ba094311144",
   "outputs": [],
   "execution_count": null
  },
  {
   "metadata": {},
   "cell_type": "markdown",
   "source": "### connect to remote webdriver",
   "id": "735720fcf07d4ebb"
  },
  {
   "metadata": {},
   "cell_type": "code",
   "source": [
    "from selenium import webdriver\n",
    "from selenium.webdriver.chrome.service import Service\n",
    "from selenium.webdriver.chrome.options import Options\n",
    "import time\n",
    "\n",
    "# service = Service('/Users/shihxuancheng/.cache/selenium/chromedriver/mac-arm64/131.0.6778.85/chromedriver')\n",
    "# service.start()\n",
    "options = Options()\n",
    "driver = webdriver.Remote('http://127.0.0.1:57922',options=options)\n",
    "# driver.get('http://www.google.com/');\n",
    "time.sleep(5) # Let the user actually see something!\n",
    "driver.quit()"
   ],
   "id": "7c7766a6972b8143",
   "outputs": [],
   "execution_count": null
  },
  {
   "metadata": {},
   "cell_type": "markdown",
   "source": "### 取得NTP標準時間",
   "id": "c072e642b6cb63c5"
  },
  {
   "metadata": {},
   "cell_type": "code",
   "source": [
    "import ntplib\n",
    "from time import ctime\n",
    "\n",
    "def get_ntp_time():\n",
    "    client = ntplib.NTPClient()\n",
    "    # response = client.request('pool.ntp.org')\n",
    "    response = client.request('clear')\n",
    "    return ctime(response.tx_time)\n",
    "print(\"NTP Time:\", get_ntp_time())"
   ],
   "id": "f7e40751f2268220",
   "outputs": [],
   "execution_count": null
  },
  {
   "metadata": {},
   "cell_type": "markdown",
   "source": "### 計算本機到特定url的傳輸時間 (TCP連接建立時間加上初始HTTP請求時間)",
   "id": "32fad869ecc92f8e"
  },
  {
   "metadata": {},
   "cell_type": "code",
   "source": [
    "import requests\n",
    "import time\n",
    "import statistics\n",
    "from tqdm import tqdm\n",
    "\n",
    "def test_connection_time(url, num_requests=10):\n",
    "    \"\"\"\n",
    "    測試本機與指定URL間的連接時間，不等待完整回應\n",
    "\n",
    "    參數:\n",
    "        url (str): 要測試的URL\n",
    "        num_requests (int): 請求次數\n",
    "\n",
    "    返回:\n",
    "        dict: 包含平均、最小、最大和所有連接時間的字典\n",
    "    \"\"\"\n",
    "    connection_times = []\n",
    "\n",
    "    print(f\"測試URL連接: {url}\")\n",
    "    print(f\"執行 {num_requests} 次連接測試...\\n\")\n",
    "\n",
    "    # 使用tqdm顯示進度條\n",
    "    for i in tqdm(range(num_requests), desc=\"測試進度\"):\n",
    "        start_time = time.time()\n",
    "        try:\n",
    "            # 使用 stream=True 和 timeout 參數\n",
    "            # 只測量建立連接的時間，不下載完整回應\n",
    "            session = requests.Session()\n",
    "            response = session.get(\n",
    "                url,\n",
    "                stream=True,    # 不立即下載回應內容\n",
    "                timeout=(5, 5)  # (連接超時, 讀取超時) - 短讀取超時\n",
    "            )\n",
    "            # 立即關閉連接\n",
    "            response.close()\n",
    "\n",
    "        except requests.exceptions.RequestException as e:\n",
    "            print(f\"連接失敗: {e}\")\n",
    "            continue\n",
    "\n",
    "        end_time = time.time()\n",
    "        connection_time = (end_time - start_time) * 1000  # 轉換為毫秒\n",
    "        connection_times.append(connection_time)\n",
    "\n",
    "        # 避免頻繁請求導致伺服器拒絕\n",
    "        time.sleep(0.1)\n",
    "\n",
    "    if not connection_times:\n",
    "        return {\"error\": \"所有連接都失敗了\"}\n",
    "\n",
    "    # 計算統計數據\n",
    "    avg_time = statistics.mean(connection_times)\n",
    "    min_time = min(connection_times)\n",
    "    max_time = max(connection_times)\n",
    "    median_time = statistics.median(connection_times)\n",
    "\n",
    "    return {\n",
    "        \"平均連接時間(ms)\": round(avg_time, 2),\n",
    "        \"最小連接時間(ms)\": round(min_time, 2),\n",
    "        \"最大連接時間(ms)\": round(max_time, 2),\n",
    "        \"中位數連接時間(ms)\": round(median_time, 2),\n",
    "        \"所有連接時間\": [round(t, 2) for t in connection_times]\n",
    "    }\n",
    "\n",
    "# target utl\n",
    "target_url = 'https://docs.google.com/forms/d/1hHHrf19cWw0Nn8C0RIgOwXwhcUQJSuNpqMoQCERuQVI'\n",
    "results = test_connection_time(target_url, num_requests=3)\n",
    "\n",
    "print(\"\\n測試結果:\")\n",
    "for key, value in results.items():\n",
    "    if key != \"所有回應時間\":\n",
    "        print(f\"{key}: {value}\")\n",
    "\n",
    "print(\"\\n所有回應時間(ms):\")\n",
    "print(results[\"所有連接時間\"])\n",
    "\n"
   ],
   "id": "923a9aad1eea38af",
   "outputs": [],
   "execution_count": null
  },
  {
   "metadata": {},
   "cell_type": "markdown",
   "source": "### Convert date field of chromedriver log",
   "id": "e49c688ab00bab9b"
  },
  {
   "metadata": {},
   "cell_type": "code",
   "source": [
    "import re\n",
    "import datetime\n",
    "\n",
    "# 讀取 chromedriver 日誌文件\n",
    "with open('./chromedrver-2025-09-04.log', 'r', encoding='utf-8') as file:\n",
    "    log_content = file.read()\n",
    "\n",
    "# 正則表達式匹配時間戳記格式\n",
    "# 匹配包含小數點的時間戳記格式\n",
    "pattern = r'\\[(\\d+\\.\\d+)\\]'\n",
    "\n",
    "\n",
    "def timestamp_to_readable(match):\n",
    "    timestamp = float(match.group(1))\n",
    "    # 將秒級時間戳轉換為日期時間格式\n",
    "    readable_time = datetime.datetime.fromtimestamp(timestamp).strftime('%Y-%m-%d %H:%M:%S.%f')[:-3]\n",
    "    return f'[{readable_time}]'\n",
    "\n",
    "\n",
    "# 替換所有時間戳記\n",
    "readable_log = re.sub(pattern, timestamp_to_readable, log_content)\n",
    "\n",
    "# 將可閱讀的日誌寫入新文件\n",
    "with open('./chromedriver_readable.log', 'w') as file:\n",
    "    file.write(readable_log)\n",
    "    print(f\"converted file: {file.name}\")\n",
    "\n",
    "print(\"轉換完成！\")\n"
   ],
   "id": "e21678a90657bf9f",
   "outputs": [],
   "execution_count": null
  }
 ],
 "metadata": {
  "kernelspec": {
   "display_name": "Python 3",
   "language": "python",
   "name": "python3"
  },
  "language_info": {
   "codemirror_mode": {
    "name": "ipython",
    "version": 2
   },
   "file_extension": ".py",
   "mimetype": "text/x-python",
   "name": "python",
   "nbconvert_exporter": "python",
   "pygments_lexer": "ipython2",
   "version": "2.7.6"
  }
 },
 "nbformat": 4,
 "nbformat_minor": 5
}
