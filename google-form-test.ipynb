{
 "cells": [
  {
   "metadata": {},
   "cell_type": "markdown",
   "source": "### Progress-1",
   "id": "da8c3287fa814a82"
  },
  {
   "metadata": {
    "ExecuteTime": {
     "end_time": "2024-11-13T14:46:08.408029Z",
     "start_time": "2024-11-13T14:45:58.190528Z"
    }
   },
   "cell_type": "code",
   "source": [
    "import time\n",
    "from tqdm import tqdm\n",
    "\n",
    "# 模擬一個長時間運行的任務\n",
    "for i in tqdm(range(100), desc=\"Loading...\"):\n",
    "    time.sleep(0.1)  # 模擬任務"
   ],
   "id": "26e1bf488fa22198",
   "outputs": [
    {
     "name": "stderr",
     "output_type": "stream",
     "text": [
      "Loading...: 100%|██████████| 100/100 [00:10<00:00,  9.79it/s]\n"
     ]
    }
   ],
   "execution_count": 3
  },
  {
   "metadata": {},
   "cell_type": "markdown",
   "source": "### Progress-2 (infiniti loading)",
   "id": "29e5206d8d2c6517"
  },
  {
   "metadata": {
    "ExecuteTime": {
     "end_time": "2024-11-15T13:47:10.037645Z",
     "start_time": "2024-11-15T13:47:02.953988Z"
    }
   },
   "cell_type": "code",
   "source": [
    "import itertools\n",
    "import sys\n",
    "import time\n",
    "\n",
    "def always_loading(desc=\"Loading...\", delay=0.1):\n",
    "    spinner = itertools.cycle(['-', '\\\\', '|', '/'])\n",
    "    while True:\n",
    "        sys.stdout.write(f'\\r{desc} {next(spinner)}')\n",
    "        sys.stdout.flush()\n",
    "        time.sleep(delay)\n",
    "\n",
    "try:\n",
    "    always_loading()\n",
    "except KeyboardInterrupt:\n",
    "    sys.stdout.write('\\rDone!     \\n')\n",
    "    sys.stdout.flush()"
   ],
   "id": "4e7b2eebee825600",
   "outputs": [
    {
     "name": "stdout",
     "output_type": "stream",
     "text": [
      "Done!      -\n"
     ]
    }
   ],
   "execution_count": 1
  },
  {
   "metadata": {},
   "cell_type": "markdown",
   "source": "### Progress-3 (countdown)",
   "id": "3ee1523dbad1ee16"
  },
  {
   "metadata": {
    "ExecuteTime": {
     "end_time": "2024-11-15T14:24:11.618812Z",
     "start_time": "2024-11-15T14:24:11.615818Z"
    }
   },
   "cell_type": "code",
   "source": [
    "import time\n",
    "from tqdm import tqdm\n",
    "from datetime import datetime, timedelta\n",
    "\n",
    "def countdown_to(target_time):\n",
    "    now = datetime.now()\n",
    "    target = datetime.strptime(target_time, \"%Y-%m-%d %H:%M:%S\")\n",
    "    delta = (target - now).total_seconds()\n",
    "\n",
    "    if delta <= 0:\n",
    "        print(f\"Target date is expired => {target_time}\")\n",
    "        return\n",
    "\n",
    "    for i in tqdm(range(int(delta)), desc=\"AWaiting time for auto-apply execution\", unit=\"s\", bar_format=\"{desc}: {remaining}\"):\n",
    "        time.sleep(1)\n",
    "\n",
    "# 設定目標時間\n",
    "target_time = \"2024-11-14 23:21:00\"\n",
    "countdown_to(target_time)"
   ],
   "id": "6c58636ed1cd5756",
   "outputs": [
    {
     "name": "stdout",
     "output_type": "stream",
     "text": [
      "Target Date is expired => 2024-11-14 23:21:00\n"
     ]
    }
   ],
   "execution_count": 8
  },
  {
   "metadata": {
    "ExecuteTime": {
     "end_time": "2024-11-10T08:58:40.471469Z",
     "start_time": "2024-11-10T08:58:40.468762Z"
    }
   },
   "cell_type": "code",
   "outputs": [],
   "execution_count": 2,
   "source": [
    "import logging\n",
    "def init_log():\n",
    "    import logging\n",
    "\n",
    "    # 設定日誌格式\n",
    "    formatter = logging.Formatter('%(asctime)s - %(name)s - %(levelname)s - %(message)s')\n",
    "    \n",
    "    # 建立日誌記錄器\n",
    "    logger = logging.getLogger(__name__)\n",
    "    logger.setLevel(logging.INFO)\n",
    "    \n",
    "    # 建立文件處理器\n",
    "    file_handler = logging.FileHandler('example.log')\n",
    "    file_handler.setLevel(logging.INFO)\n",
    "    file_handler.setFormatter(formatter)\n",
    "    \n",
    "    # 建立控制台處理器\n",
    "    console_handler = logging.StreamHandler()\n",
    "    console_handler.setLevel(logging.INFO)\n",
    "    console_handler.setFormatter(formatter)\n",
    "    \n",
    "    # 將處理器添加到日誌記錄器\n",
    "    logger.addHandler(file_handler)\n",
    "    logger.addHandler(console_handler)\n",
    "    return logger"
   ],
   "id": "f26169e7a72c8e8d"
  },
  {
   "metadata": {},
   "cell_type": "markdown",
   "source": "### Get Chromedriver install path",
   "id": "36e61179aa21fcf6"
  },
  {
   "metadata": {
    "ExecuteTime": {
     "end_time": "2024-11-26T12:55:09.546587Z",
     "start_time": "2024-11-26T12:55:08.174611Z"
    }
   },
   "cell_type": "code",
   "source": [
    "from selenium import webdriver\n",
    "from selenium.webdriver.chrome.service import Service\n",
    "\n",
    "def get_chromedriver_path():\n",
    "    try:\n",
    "        # 初始化 Chrome WebDriver\n",
    "        service = Service()\n",
    "        driver = webdriver.Chrome(service=service)\n",
    "        # 取得 ChromeDriver 的執行檔路徑\n",
    "        chromedriver_path = service.path\n",
    "        driver.quit()\n",
    "        return chromedriver_path\n",
    "    except Exception as e:\n",
    "        print(f\"Error occurred: {e}\")\n",
    "        return None\n",
    "\n",
    "chromedriver_path = get_chromedriver_path()\n",
    "if chromedriver_path:\n",
    "    print(f\"ChromeDriver path: {chromedriver_path}\")\n",
    "else:\n",
    "    print(\"Failed to get ChromeDriver path.\")"
   ],
   "id": "1b3f0ba094311144",
   "outputs": [
    {
     "name": "stdout",
     "output_type": "stream",
     "text": [
      "ChromeDriver path: /Users/shihxuancheng/.cache/selenium/chromedriver/mac-arm64/131.0.6778.85/chromedriver\n"
     ]
    }
   ],
   "execution_count": 8
  },
  {
   "metadata": {},
   "cell_type": "markdown",
   "source": "### connect to remote webdriver",
   "id": "735720fcf07d4ebb"
  },
  {
   "metadata": {
    "ExecuteTime": {
     "end_time": "2024-11-22T14:31:35.845013Z",
     "start_time": "2024-11-22T14:31:30.098588Z"
    }
   },
   "cell_type": "code",
   "source": [
    "from selenium import webdriver\n",
    "from selenium.webdriver.chrome.service import Service\n",
    "from selenium.webdriver.chrome.options import Options\n",
    "import time\n",
    "\n",
    "# service = Service('/Users/shihxuancheng/.cache/selenium/chromedriver/mac-arm64/131.0.6778.85/chromedriver')\n",
    "# service.start()\n",
    "options = Options()\n",
    "driver = webdriver.Remote('http://127.0.0.1:57922',options=options)\n",
    "# driver.get('http://www.google.com/');\n",
    "time.sleep(5) # Let the user actually see something!\n",
    "driver.quit()"
   ],
   "id": "7c7766a6972b8143",
   "outputs": [],
   "execution_count": 20
  },
  {
   "metadata": {},
   "cell_type": "markdown",
   "source": "### 取得NTP標準時間",
   "id": "c072e642b6cb63c5"
  },
  {
   "metadata": {
    "ExecuteTime": {
     "end_time": "2024-11-27T15:34:07.886340Z",
     "start_time": "2024-11-27T15:34:07.828467Z"
    }
   },
   "cell_type": "code",
   "source": [
    "import ntplib\n",
    "from time import ctime\n",
    "\n",
    "def get_ntp_time():\n",
    "    client = ntplib.NTPClient()\n",
    "    response = client.request('pool.ntp.org')\n",
    "    return ctime(response.tx_time)\n",
    "print(\"NTP Time:\", get_ntp_time())"
   ],
   "id": "f7e40751f2268220",
   "outputs": [
    {
     "name": "stdout",
     "output_type": "stream",
     "text": [
      "NTP Time: Wed Nov 27 23:34:07 2024\n"
     ]
    }
   ],
   "execution_count": 1
  }
 ],
 "metadata": {
  "kernelspec": {
   "display_name": "Python 3",
   "language": "python",
   "name": "python3"
  },
  "language_info": {
   "codemirror_mode": {
    "name": "ipython",
    "version": 2
   },
   "file_extension": ".py",
   "mimetype": "text/x-python",
   "name": "python",
   "nbconvert_exporter": "python",
   "pygments_lexer": "ipython2",
   "version": "2.7.6"
  }
 },
 "nbformat": 4,
 "nbformat_minor": 5
}
